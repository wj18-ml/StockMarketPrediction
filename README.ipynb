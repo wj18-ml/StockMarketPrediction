{
 "cells": [
  {
   "cell_type": "markdown",
   "id": "8e3600df-b89f-4821-95b3-643967214e4a",
   "metadata": {},
   "source": [
    "## Stock Market Sentiment Analysis and Prediction\n",
    "\n",
    "### Project overview\n",
    "\n",
    "- To evaluate the impact of social media sentiment on stock prices, I calculated sentiment score of tweets using VADER (Valence Aware Dictionary for Sentiment Reasoning) model.\n",
    "- With some data preprocessing and feature engineering, I am able to get sentiment score and stock price on each day as input features for machine learning model.\n",
    "- For model selection, I started with simpler model (KNeighborsRegressor) due to its fast training time and good interpretability. It actually performs well but the training and test data are shuffled during learning so it is only working well for short-term predictions. Simple regression model does not learn sequential dependencies and will perform poorly on long-term predictions.\n",
    "- To improve this, I then used GAN (Generative Adversarial Network) with LSTM which is a deep learning model and good at learning sequential data and captureing long-term dependencies. The model made decent prediction on stock prcies of 20 consecutive transaction days.\n",
    "\n",
    "### Some thoughts on next steps for production\n",
    "\n",
    "- More data needs to be collected as neural network models need large amount of training data. Also we can fine tune the hyperparameters to improve the performance and prevent overfitting.\n",
    "- We will need to convert the model to a deployable format and deploy it using an API with framework like FastAPI or Flask for predictions in production. To enhance the scalability, we can deploy it to cloud services. Also, we can do optimiazation in many ways to improve the inference speed.\n",
    "- After the deployment, monitoring and retraining/fine-tuning are also necessary to make sure the model is not degraded and customers are not affected. "
   ]
  },
  {
   "cell_type": "code",
   "execution_count": null,
   "id": "18c1f234-4337-4bec-b150-e5e53a5e9c0b",
   "metadata": {},
   "outputs": [],
   "source": []
  }
 ],
 "metadata": {
  "kernelspec": {
   "display_name": "Python 3 (ipykernel)",
   "language": "python",
   "name": "python3"
  },
  "language_info": {
   "codemirror_mode": {
    "name": "ipython",
    "version": 3
   },
   "file_extension": ".py",
   "mimetype": "text/x-python",
   "name": "python",
   "nbconvert_exporter": "python",
   "pygments_lexer": "ipython3",
   "version": "3.10.11"
  }
 },
 "nbformat": 4,
 "nbformat_minor": 5
}
